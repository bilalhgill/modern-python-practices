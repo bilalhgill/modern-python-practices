{
 "cells": [
  {
   "cell_type": "code",
   "execution_count": 5,
   "metadata": {},
   "outputs": [
    {
     "name": "stdout",
     "output_type": "stream",
     "text": [
      "Requirement already satisfied: nptyping in /Users/m.qasim/anaconda3/envs/python12/lib/python3.12/site-packages (2.5.0)\n",
      "Requirement already satisfied: numpy<2.0.0,>=1.20.0 in /Users/m.qasim/anaconda3/envs/python12/lib/python3.12/site-packages (from nptyping) (1.26.1)\n"
     ]
    }
   ],
   "source": [
    "!pip install nptyping --upgrade"
   ]
  },
  {
   "cell_type": "code",
   "execution_count": 6,
   "metadata": {},
   "outputs": [
    {
     "name": "stdout",
     "output_type": "stream",
     "text": [
      "Collecting beartype\n",
      "  Downloading beartype-0.16.4-py3-none-any.whl.metadata (29 kB)\n",
      "Downloading beartype-0.16.4-py3-none-any.whl (819 kB)\n",
      "\u001b[2K   \u001b[90m━━━━━━━━━━━━━━━━━━━━━━━━━━━━━━━━━━━━━━━━\u001b[0m \u001b[32m819.1/819.1 kB\u001b[0m \u001b[31m2.2 MB/s\u001b[0m eta \u001b[36m0:00:00\u001b[0ma \u001b[36m0:00:01\u001b[0mm\n",
      "\u001b[?25hInstalling collected packages: beartype\n",
      "Successfully installed beartype-0.16.4\n"
     ]
    }
   ],
   "source": [
    "!pip install beartype --upgrade"
   ]
  },
  {
   "cell_type": "code",
   "execution_count": 9,
   "metadata": {},
   "outputs": [
    {
     "data": {
      "text/plain": [
       "True"
      ]
     },
     "execution_count": 9,
     "metadata": {},
     "output_type": "execute_result"
    }
   ],
   "source": [
    "%%code_wrap\n",
    ">>> from typing import Any\n",
    ">>> import numpy as np\n",
    ">>> from nptyping import NDArray, Structure\n",
    "\n",
    ">>> arr = np.array([(\"x\")], np.dtype([(\"x\", \"U10\", (2, 2))]))\n",
    ">>> isinstance(arr, NDArray[Any, Structure[\"x: Str[2, 2]\"]])\n",
    "\n"
   ]
  },
  {
   "cell_type": "code",
   "execution_count": 4,
   "metadata": {},
   "outputs": [
    {
     "data": {
      "text/plain": [
       "array([([['x', 'x'], ['x', 'x']],)], dtype=[('x', '<U10', (2, 2))])"
      ]
     },
     "metadata": {},
     "output_type": "display_data"
    }
   ],
   "source": [
    "\n",
    "from typing import Any\n",
    "import numpy as np\n",
    "from nptyping import NDArray, Structure\n",
    "arr = np.array([(\"x\")], np.dtype([(\"x\", \"U10\", (2, 2))]))\n",
    "display(arr)"
   ]
  },
  {
   "cell_type": "code",
   "execution_count": 3,
   "metadata": {},
   "outputs": [
    {
     "data": {
      "text/plain": [
       "Structure['anyType: *']"
      ]
     },
     "metadata": {},
     "output_type": "display_data"
    },
    {
     "name": "stdout",
     "output_type": "stream",
     "text": [
      "aa\n"
     ]
    }
   ],
   "source": [
    "\n",
    "from typing import Any\n",
    "import numpy as np\n",
    "from nptyping import NDArray, Structure\n",
    "\n",
    "display(Structure[\"anyType: *\"])\n",
    "print(\"aa\")"
   ]
  },
  {
   "cell_type": "code",
   "execution_count": null,
   "metadata": {},
   "outputs": [],
   "source": []
  }
 ],
 "metadata": {
  "kernelspec": {
   "display_name": "python12",
   "language": "python",
   "name": "python3"
  },
  "language_info": {
   "codemirror_mode": {
    "name": "ipython",
    "version": 3
   },
   "file_extension": ".py",
   "mimetype": "text/x-python",
   "name": "python",
   "nbconvert_exporter": "python",
   "pygments_lexer": "ipython3",
   "version": "3.12.0"
  },
  "orig_nbformat": 4
 },
 "nbformat": 4,
 "nbformat_minor": 2
}
