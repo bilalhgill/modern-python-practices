{
 "cells": [
  {
   "cell_type": "code",
   "execution_count": 3,
   "metadata": {},
   "outputs": [
    {
     "name": "stdout",
     "output_type": "stream",
     "text": [
      "   column1  column2  column3\n",
      "0        1     -1.3  value_1\n",
      "1        4     -1.4  value_2\n",
      "2        0     -2.9  value_3\n",
      "3       10    -10.1  value_2\n",
      "4        9    -20.4  value_1\n"
     ]
    }
   ],
   "source": [
    "import pandas as pd\n",
    "import pandera as pa\n",
    "\n",
    "# data to validate\n",
    "df = pd.DataFrame({\n",
    "    \"column1\": [1, 4, 0, 10, 9],\n",
    "    \"column2\": [-1.3, -1.4, -2.9, -10.1, -20.4],\n",
    "    \"column3\": [\"value_1\", \"value_2\", \"value_3\", \"value_2\", \"value_1\"],\n",
    "})\n",
    "\n",
    "# define schema\n",
    "schema = pa.DataFrameSchema({\n",
    "    \"column1\": pa.Column(int, checks=pa.Check.le(10)),\n",
    "    \"column2\": pa.Column(float, checks=pa.Check.lt(-1.2)),\n",
    "    \"column3\": pa.Column(str, checks=[\n",
    "        pa.Check.str_startswith(\"value_\"),\n",
    "        # define custom checks as functions that take a series as input and\n",
    "        # outputs a boolean or boolean Series\n",
    "        pa.Check(lambda s: s.str.split(\"_\", expand=True).shape[1] == 2)\n",
    "    ]),\n",
    "})\n",
    "\n",
    "validated_df = schema(df)\n",
    "print(validated_df)"
   ]
  },
  {
   "cell_type": "code",
   "execution_count": 4,
   "metadata": {},
   "outputs": [],
   "source": [
    "schema = pa.DataFrameSchema({\n",
    "    # built-in python types\n",
    "    \"int_column\": pa.Column(int),\n",
    "    \"float_column\": pa.Column(float),\n",
    "    \"str_column\": pa.Column(str),\n",
    "\n",
    "    # pandas dtype string aliases\n",
    "    \"int_column2\": pa.Column(\"int64\"),\n",
    "    \"float_column2\": pa.Column(\"float64\"),\n",
    "    # pandas > 1.0.0 support native \"string\" type\n",
    "    \"str_column2\": pa.Column(\"str\"),\n",
    "\n",
    "    # pandera DataType\n",
    "    \"int_column3\": pa.Column(pa.Int),\n",
    "    \"float_column3\": pa.Column(pa.Float),\n",
    "    \"str_column3\": pa.Column(pa.String),\n",
    "})"
   ]
  },
  {
   "cell_type": "code",
   "execution_count": 9,
   "metadata": {},
   "outputs": [
    {
     "data": {
      "text/html": [
       "<div>\n",
       "<style scoped>\n",
       "    .dataframe tbody tr th:only-of-type {\n",
       "        vertical-align: middle;\n",
       "    }\n",
       "\n",
       "    .dataframe tbody tr th {\n",
       "        vertical-align: top;\n",
       "    }\n",
       "\n",
       "    .dataframe thead th {\n",
       "        text-align: right;\n",
       "    }\n",
       "</style>\n",
       "<table border=\"1\" class=\"dataframe\">\n",
       "  <thead>\n",
       "    <tr style=\"text-align: right;\">\n",
       "      <th></th>\n",
       "      <th>column1</th>\n",
       "      <th>column2</th>\n",
       "      <th>column3</th>\n",
       "    </tr>\n",
       "  </thead>\n",
       "  <tbody>\n",
       "    <tr>\n",
       "      <th>0</th>\n",
       "      <td>1</td>\n",
       "      <td>-1.3</td>\n",
       "      <td>value_1</td>\n",
       "    </tr>\n",
       "    <tr>\n",
       "      <th>1</th>\n",
       "      <td>4</td>\n",
       "      <td>-1.4</td>\n",
       "      <td>value_2</td>\n",
       "    </tr>\n",
       "    <tr>\n",
       "      <th>2</th>\n",
       "      <td>0</td>\n",
       "      <td>-2.9</td>\n",
       "      <td>value_3</td>\n",
       "    </tr>\n",
       "    <tr>\n",
       "      <th>3</th>\n",
       "      <td>10</td>\n",
       "      <td>-10.1</td>\n",
       "      <td>value_2</td>\n",
       "    </tr>\n",
       "    <tr>\n",
       "      <th>4</th>\n",
       "      <td>9</td>\n",
       "      <td>-20.4</td>\n",
       "      <td>value_1</td>\n",
       "    </tr>\n",
       "  </tbody>\n",
       "</table>\n",
       "</div>"
      ],
      "text/plain": [
       "   column1  column2  column3\n",
       "0        1     -1.3  value_1\n",
       "1        4     -1.4  value_2\n",
       "2        0     -2.9  value_3\n",
       "3       10    -10.1  value_2\n",
       "4        9    -20.4  value_1"
      ]
     },
     "execution_count": 9,
     "metadata": {},
     "output_type": "execute_result"
    }
   ],
   "source": [
    "from pandera import Bool\n",
    "from pandera.typing import Series\n",
    "\n",
    "class Schema(pa.DataFrameModel):\n",
    "\n",
    "    column1: int = pa.Field(le=10)\n",
    "    column2: float = pa.Field(lt=-1.2)\n",
    "    column3: str = pa.Field(str_startswith=\"value_\")\n",
    "\n",
    "    @pa.check(\"column3\")\n",
    "    def column_3_check(cls, series: Series[str]) -> Series[Bool]:\n",
    "        \"\"\"Check that column3 values have two elements after being split with '_'\"\"\"\n",
    "        return series.str.split(\"_\", expand=True).shape[1] == 2\n",
    "\n",
    "Schema.validate(df)"
   ]
  },
  {
   "cell_type": "code",
   "execution_count": 7,
   "metadata": {},
   "outputs": [
    {
     "ename": "SchemaError",
     "evalue": "<Schema Column(name=column1, type=DataType(int64))> failed element-wise validator 0:\n<Check <lambda>: range checker [0, 10]>\nfailure cases:\n   index  failure_case\n0      0           -20\n1      3            30",
     "output_type": "error",
     "traceback": [
      "\u001b[0;31m---------------------------------------------------------------------------\u001b[0m",
      "\u001b[0;31mSchemaError\u001b[0m                               Traceback (most recent call last)",
      "Cell \u001b[0;32mIn[7], line 16\u001b[0m\n\u001b[1;32m     11\u001b[0m \u001b[39m# validation rule violated\u001b[39;00m\n\u001b[1;32m     12\u001b[0m fail_check_df \u001b[39m=\u001b[39m pd\u001b[39m.\u001b[39mDataFrame({\n\u001b[1;32m     13\u001b[0m     \u001b[39m\"\u001b[39m\u001b[39mcolumn1\u001b[39m\u001b[39m\"\u001b[39m: [\u001b[39m-\u001b[39m\u001b[39m20\u001b[39m, \u001b[39m5\u001b[39m, \u001b[39m10\u001b[39m, \u001b[39m30\u001b[39m],\n\u001b[1;32m     14\u001b[0m })\n\u001b[0;32m---> 16\u001b[0m simple_schema(fail_check_df)\n",
      "File \u001b[0;32m~/anaconda3/envs/python12/lib/python3.12/site-packages/pandera/api/pandas/container.py:439\u001b[0m, in \u001b[0;36mDataFrameSchema.__call__\u001b[0;34m(self, dataframe, head, tail, sample, random_state, lazy, inplace)\u001b[0m\n\u001b[1;32m    411\u001b[0m \u001b[39mdef\u001b[39;00m \u001b[39m__call__\u001b[39m(\n\u001b[1;32m    412\u001b[0m     \u001b[39mself\u001b[39m,\n\u001b[1;32m    413\u001b[0m     dataframe: pd\u001b[39m.\u001b[39mDataFrame,\n\u001b[0;32m   (...)\u001b[0m\n\u001b[1;32m    419\u001b[0m     inplace: \u001b[39mbool\u001b[39m \u001b[39m=\u001b[39m \u001b[39mFalse\u001b[39;00m,\n\u001b[1;32m    420\u001b[0m ):\n\u001b[1;32m    421\u001b[0m \u001b[39m    \u001b[39m\u001b[39m\"\"\"Alias for :func:`DataFrameSchema.validate` method.\u001b[39;00m\n\u001b[1;32m    422\u001b[0m \n\u001b[1;32m    423\u001b[0m \u001b[39m    :param pd.DataFrame dataframe: the dataframe to be validated.\u001b[39;00m\n\u001b[0;32m   (...)\u001b[0m\n\u001b[1;32m    437\u001b[0m \u001b[39m        otherwise creates a copy of the data.\u001b[39;00m\n\u001b[1;32m    438\u001b[0m \u001b[39m    \"\"\"\u001b[39;00m\n\u001b[0;32m--> 439\u001b[0m     \u001b[39mreturn\u001b[39;00m \u001b[39mself\u001b[39;49m\u001b[39m.\u001b[39;49mvalidate(\n\u001b[1;32m    440\u001b[0m         dataframe, head, tail, sample, random_state, lazy, inplace\n\u001b[1;32m    441\u001b[0m     )\n",
      "File \u001b[0;32m~/anaconda3/envs/python12/lib/python3.12/site-packages/pandera/api/pandas/container.py:371\u001b[0m, in \u001b[0;36mDataFrameSchema.validate\u001b[0;34m(self, check_obj, head, tail, sample, random_state, lazy, inplace)\u001b[0m\n\u001b[1;32m    359\u001b[0m     check_obj \u001b[39m=\u001b[39m check_obj\u001b[39m.\u001b[39mmap_partitions(  \u001b[39m# type: ignore [operator]\u001b[39;00m\n\u001b[1;32m    360\u001b[0m         \u001b[39mself\u001b[39m\u001b[39m.\u001b[39m_validate,\n\u001b[1;32m    361\u001b[0m         head\u001b[39m=\u001b[39mhead,\n\u001b[0;32m   (...)\u001b[0m\n\u001b[1;32m    367\u001b[0m         meta\u001b[39m=\u001b[39mcheck_obj,\n\u001b[1;32m    368\u001b[0m     )\n\u001b[1;32m    369\u001b[0m     \u001b[39mreturn\u001b[39;00m check_obj\u001b[39m.\u001b[39mpandera\u001b[39m.\u001b[39madd_schema(\u001b[39mself\u001b[39m)\n\u001b[0;32m--> 371\u001b[0m \u001b[39mreturn\u001b[39;00m \u001b[39mself\u001b[39;49m\u001b[39m.\u001b[39;49m_validate(\n\u001b[1;32m    372\u001b[0m     check_obj\u001b[39m=\u001b[39;49mcheck_obj,\n\u001b[1;32m    373\u001b[0m     head\u001b[39m=\u001b[39;49mhead,\n\u001b[1;32m    374\u001b[0m     tail\u001b[39m=\u001b[39;49mtail,\n\u001b[1;32m    375\u001b[0m     sample\u001b[39m=\u001b[39;49msample,\n\u001b[1;32m    376\u001b[0m     random_state\u001b[39m=\u001b[39;49mrandom_state,\n\u001b[1;32m    377\u001b[0m     lazy\u001b[39m=\u001b[39;49mlazy,\n\u001b[1;32m    378\u001b[0m     inplace\u001b[39m=\u001b[39;49minplace,\n\u001b[1;32m    379\u001b[0m )\n",
      "File \u001b[0;32m~/anaconda3/envs/python12/lib/python3.12/site-packages/pandera/api/pandas/container.py:400\u001b[0m, in \u001b[0;36mDataFrameSchema._validate\u001b[0;34m(self, check_obj, head, tail, sample, random_state, lazy, inplace)\u001b[0m\n\u001b[1;32m    391\u001b[0m \u001b[39mif\u001b[39;00m \u001b[39mself\u001b[39m\u001b[39m.\u001b[39m_is_inferred:\n\u001b[1;32m    392\u001b[0m     warnings\u001b[39m.\u001b[39mwarn(\n\u001b[1;32m    393\u001b[0m         \u001b[39mf\u001b[39m\u001b[39m\"\u001b[39m\u001b[39mThis \u001b[39m\u001b[39m{\u001b[39;00m\u001b[39mtype\u001b[39m(\u001b[39mself\u001b[39m)\u001b[39m}\u001b[39;00m\u001b[39m is an inferred schema that hasn\u001b[39m\u001b[39m'\u001b[39m\u001b[39mt been \u001b[39m\u001b[39m\"\u001b[39m\n\u001b[1;32m    394\u001b[0m         \u001b[39m\"\u001b[39m\u001b[39mmodified. It\u001b[39m\u001b[39m'\u001b[39m\u001b[39ms recommended that you refine the schema \u001b[39m\u001b[39m\"\u001b[39m\n\u001b[0;32m   (...)\u001b[0m\n\u001b[1;32m    397\u001b[0m         \u001b[39mUserWarning\u001b[39;00m,\n\u001b[1;32m    398\u001b[0m     )\n\u001b[0;32m--> 400\u001b[0m \u001b[39mreturn\u001b[39;00m \u001b[39mself\u001b[39;49m\u001b[39m.\u001b[39;49mget_backend(check_obj)\u001b[39m.\u001b[39;49mvalidate(\n\u001b[1;32m    401\u001b[0m     check_obj,\n\u001b[1;32m    402\u001b[0m     schema\u001b[39m=\u001b[39;49m\u001b[39mself\u001b[39;49m,\n\u001b[1;32m    403\u001b[0m     head\u001b[39m=\u001b[39;49mhead,\n\u001b[1;32m    404\u001b[0m     tail\u001b[39m=\u001b[39;49mtail,\n\u001b[1;32m    405\u001b[0m     sample\u001b[39m=\u001b[39;49msample,\n\u001b[1;32m    406\u001b[0m     random_state\u001b[39m=\u001b[39;49mrandom_state,\n\u001b[1;32m    407\u001b[0m     lazy\u001b[39m=\u001b[39;49mlazy,\n\u001b[1;32m    408\u001b[0m     inplace\u001b[39m=\u001b[39;49minplace,\n\u001b[1;32m    409\u001b[0m )\n",
      "File \u001b[0;32m~/anaconda3/envs/python12/lib/python3.12/site-packages/pandera/backends/pandas/container.py:97\u001b[0m, in \u001b[0;36mDataFrameSchemaBackend.validate\u001b[0;34m(self, check_obj, schema, head, tail, sample, random_state, lazy, inplace)\u001b[0m\n\u001b[1;32m     92\u001b[0m components \u001b[39m=\u001b[39m \u001b[39mself\u001b[39m\u001b[39m.\u001b[39mcollect_schema_components(\n\u001b[1;32m     93\u001b[0m     check_obj, schema, column_info\n\u001b[1;32m     94\u001b[0m )\n\u001b[1;32m     96\u001b[0m \u001b[39m# run the checks\u001b[39;00m\n\u001b[0;32m---> 97\u001b[0m error_handler \u001b[39m=\u001b[39m \u001b[39mself\u001b[39;49m\u001b[39m.\u001b[39;49mrun_checks_and_handle_errors(\n\u001b[1;32m     98\u001b[0m     error_handler,\n\u001b[1;32m     99\u001b[0m     schema,\n\u001b[1;32m    100\u001b[0m     check_obj,\n\u001b[1;32m    101\u001b[0m     column_info,\n\u001b[1;32m    102\u001b[0m     sample,\n\u001b[1;32m    103\u001b[0m     components,\n\u001b[1;32m    104\u001b[0m     lazy,\n\u001b[1;32m    105\u001b[0m     head,\n\u001b[1;32m    106\u001b[0m     tail,\n\u001b[1;32m    107\u001b[0m     random_state,\n\u001b[1;32m    108\u001b[0m )\n\u001b[1;32m    110\u001b[0m \u001b[39mif\u001b[39;00m error_handler\u001b[39m.\u001b[39mcollected_errors:\n\u001b[1;32m    111\u001b[0m     \u001b[39mif\u001b[39;00m \u001b[39mgetattr\u001b[39m(schema, \u001b[39m\"\u001b[39m\u001b[39mdrop_invalid_rows\u001b[39m\u001b[39m\"\u001b[39m, \u001b[39mFalse\u001b[39;00m):\n",
      "File \u001b[0;32m~/anaconda3/envs/python12/lib/python3.12/site-packages/pandera/backends/pandas/container.py:172\u001b[0m, in \u001b[0;36mDataFrameSchemaBackend.run_checks_and_handle_errors\u001b[0;34m(self, error_handler, schema, check_obj, column_info, sample, components, lazy, head, tail, random_state)\u001b[0m\n\u001b[1;32m    161\u001b[0m         \u001b[39melse\u001b[39;00m:\n\u001b[1;32m    162\u001b[0m             error \u001b[39m=\u001b[39m SchemaError(\n\u001b[1;32m    163\u001b[0m                 schema,\n\u001b[1;32m    164\u001b[0m                 data\u001b[39m=\u001b[39mcheck_obj,\n\u001b[0;32m   (...)\u001b[0m\n\u001b[1;32m    170\u001b[0m                 reason_code\u001b[39m=\u001b[39mresult\u001b[39m.\u001b[39mreason_code,\n\u001b[1;32m    171\u001b[0m             )\n\u001b[0;32m--> 172\u001b[0m         error_handler\u001b[39m.\u001b[39;49mcollect_error(\n\u001b[1;32m    173\u001b[0m             result\u001b[39m.\u001b[39;49mreason_code,\n\u001b[1;32m    174\u001b[0m             error,\n\u001b[1;32m    175\u001b[0m             original_exc\u001b[39m=\u001b[39;49mresult\u001b[39m.\u001b[39;49moriginal_exc,\n\u001b[1;32m    176\u001b[0m         )\n\u001b[1;32m    178\u001b[0m \u001b[39mreturn\u001b[39;00m error_handler\n",
      "File \u001b[0;32m~/anaconda3/envs/python12/lib/python3.12/site-packages/pandera/error_handlers.py:38\u001b[0m, in \u001b[0;36mSchemaErrorHandler.collect_error\u001b[0;34m(self, reason_code, schema_error, original_exc)\u001b[0m\n\u001b[1;32m     31\u001b[0m \u001b[39m\u001b[39m\u001b[39m\"\"\"Collect schema error, raising exception if lazy is False.\u001b[39;00m\n\u001b[1;32m     32\u001b[0m \n\u001b[1;32m     33\u001b[0m \u001b[39m:param reason_code: string representing reason for error.\u001b[39;00m\n\u001b[1;32m     34\u001b[0m \u001b[39m:param schema_error: ``SchemaError`` object.\u001b[39;00m\n\u001b[1;32m     35\u001b[0m \u001b[39m:param original_exc: original exception associated with the SchemaError.\u001b[39;00m\n\u001b[1;32m     36\u001b[0m \u001b[39m\"\"\"\u001b[39;00m\n\u001b[1;32m     37\u001b[0m \u001b[39mif\u001b[39;00m \u001b[39mnot\u001b[39;00m \u001b[39mself\u001b[39m\u001b[39m.\u001b[39m_lazy:\n\u001b[0;32m---> 38\u001b[0m     \u001b[39mraise\u001b[39;00m schema_error \u001b[39mfrom\u001b[39;00m \u001b[39moriginal_exc\u001b[39;00m\n\u001b[1;32m     40\u001b[0m \u001b[39m# delete data of validated object from SchemaError object to prevent\u001b[39;00m\n\u001b[1;32m     41\u001b[0m \u001b[39m# storing copies of the validated DataFrame/Series for every\u001b[39;00m\n\u001b[1;32m     42\u001b[0m \u001b[39m# SchemaError collected.\u001b[39;00m\n\u001b[1;32m     43\u001b[0m \u001b[39mdel\u001b[39;00m schema_error\u001b[39m.\u001b[39mdata\n",
      "File \u001b[0;32m~/anaconda3/envs/python12/lib/python3.12/site-packages/pandera/backends/pandas/container.py:192\u001b[0m, in \u001b[0;36mDataFrameSchemaBackend.run_schema_component_checks\u001b[0;34m(self, check_obj, schema_components, lazy)\u001b[0m\n\u001b[1;32m    190\u001b[0m \u001b[39mfor\u001b[39;00m schema_component \u001b[39min\u001b[39;00m schema_components:\n\u001b[1;32m    191\u001b[0m     \u001b[39mtry\u001b[39;00m:\n\u001b[0;32m--> 192\u001b[0m         result \u001b[39m=\u001b[39m schema_component\u001b[39m.\u001b[39;49mvalidate(\n\u001b[1;32m    193\u001b[0m             check_obj, lazy\u001b[39m=\u001b[39;49mlazy, inplace\u001b[39m=\u001b[39;49m\u001b[39mTrue\u001b[39;49;00m\n\u001b[1;32m    194\u001b[0m         )\n\u001b[1;32m    195\u001b[0m         check_passed\u001b[39m.\u001b[39mappend(is_table(result))\n\u001b[1;32m    196\u001b[0m     \u001b[39mexcept\u001b[39;00m SchemaError \u001b[39mas\u001b[39;00m err:\n",
      "File \u001b[0;32m~/anaconda3/envs/python12/lib/python3.12/site-packages/pandera/api/pandas/components.py:169\u001b[0m, in \u001b[0;36mColumn.validate\u001b[0;34m(self, check_obj, head, tail, sample, random_state, lazy, inplace)\u001b[0m\n\u001b[1;32m    142\u001b[0m \u001b[39mdef\u001b[39;00m \u001b[39mvalidate\u001b[39m(\n\u001b[1;32m    143\u001b[0m     \u001b[39mself\u001b[39m,\n\u001b[1;32m    144\u001b[0m     check_obj: pd\u001b[39m.\u001b[39mDataFrame,\n\u001b[0;32m   (...)\u001b[0m\n\u001b[1;32m    150\u001b[0m     inplace: \u001b[39mbool\u001b[39m \u001b[39m=\u001b[39m \u001b[39mFalse\u001b[39;00m,\n\u001b[1;32m    151\u001b[0m ) \u001b[39m-\u001b[39m\u001b[39m>\u001b[39m pd\u001b[39m.\u001b[39mDataFrame:\n\u001b[1;32m    152\u001b[0m \u001b[39m    \u001b[39m\u001b[39m\"\"\"Validate a Column in a DataFrame object.\u001b[39;00m\n\u001b[1;32m    153\u001b[0m \n\u001b[1;32m    154\u001b[0m \u001b[39m    :param check_obj: pandas DataFrame to validate.\u001b[39;00m\n\u001b[0;32m   (...)\u001b[0m\n\u001b[1;32m    167\u001b[0m \u001b[39m    :returns: validated DataFrame.\u001b[39;00m\n\u001b[1;32m    168\u001b[0m \u001b[39m    \"\"\"\u001b[39;00m\n\u001b[0;32m--> 169\u001b[0m     \u001b[39mreturn\u001b[39;00m \u001b[39mself\u001b[39;49m\u001b[39m.\u001b[39;49mget_backend(check_obj)\u001b[39m.\u001b[39;49mvalidate(\n\u001b[1;32m    170\u001b[0m         check_obj,\n\u001b[1;32m    171\u001b[0m         \u001b[39mself\u001b[39;49m,\n\u001b[1;32m    172\u001b[0m         head\u001b[39m=\u001b[39;49mhead,\n\u001b[1;32m    173\u001b[0m         tail\u001b[39m=\u001b[39;49mtail,\n\u001b[1;32m    174\u001b[0m         sample\u001b[39m=\u001b[39;49msample,\n\u001b[1;32m    175\u001b[0m         random_state\u001b[39m=\u001b[39;49mrandom_state,\n\u001b[1;32m    176\u001b[0m         lazy\u001b[39m=\u001b[39;49mlazy,\n\u001b[1;32m    177\u001b[0m         inplace\u001b[39m=\u001b[39;49minplace,\n\u001b[1;32m    178\u001b[0m     )\n",
      "File \u001b[0;32m~/anaconda3/envs/python12/lib/python3.12/site-packages/pandera/backends/pandas/components.py:119\u001b[0m, in \u001b[0;36mColumnBackend.validate\u001b[0;34m(self, check_obj, schema, head, tail, sample, random_state, lazy, inplace)\u001b[0m\n\u001b[1;32m    115\u001b[0m             check_obj \u001b[39m=\u001b[39m validate_column(\n\u001b[1;32m    116\u001b[0m                 check_obj, column_name, return_check_obj\u001b[39m=\u001b[39m\u001b[39mTrue\u001b[39;00m\n\u001b[1;32m    117\u001b[0m             )\n\u001b[1;32m    118\u001b[0m         \u001b[39melse\u001b[39;00m:\n\u001b[0;32m--> 119\u001b[0m             validate_column(check_obj, column_name)\n\u001b[1;32m    121\u001b[0m \u001b[39mif\u001b[39;00m lazy \u001b[39mand\u001b[39;00m error_handler\u001b[39m.\u001b[39mcollected_errors:\n\u001b[1;32m    122\u001b[0m     \u001b[39mraise\u001b[39;00m SchemaErrors(\n\u001b[1;32m    123\u001b[0m         schema\u001b[39m=\u001b[39mschema,\n\u001b[1;32m    124\u001b[0m         schema_errors\u001b[39m=\u001b[39merror_handler\u001b[39m.\u001b[39mcollected_errors,\n\u001b[1;32m    125\u001b[0m         data\u001b[39m=\u001b[39mcheck_obj,\n\u001b[1;32m    126\u001b[0m     )\n",
      "File \u001b[0;32m~/anaconda3/envs/python12/lib/python3.12/site-packages/pandera/backends/pandas/components.py:89\u001b[0m, in \u001b[0;36mColumnBackend.validate.<locals>.validate_column\u001b[0;34m(check_obj, column_name, return_check_obj)\u001b[0m\n\u001b[1;32m     84\u001b[0m         error_handler\u001b[39m.\u001b[39mcollect_error(\n\u001b[1;32m     85\u001b[0m             reason_code\u001b[39m=\u001b[39m\u001b[39mNone\u001b[39;00m,\n\u001b[1;32m     86\u001b[0m             schema_error\u001b[39m=\u001b[39merr,\n\u001b[1;32m     87\u001b[0m         )\n\u001b[1;32m     88\u001b[0m \u001b[39mexcept\u001b[39;00m SchemaError \u001b[39mas\u001b[39;00m err:\n\u001b[0;32m---> 89\u001b[0m     error_handler\u001b[39m.\u001b[39;49mcollect_error(err\u001b[39m.\u001b[39;49mreason_code, err)\n",
      "File \u001b[0;32m~/anaconda3/envs/python12/lib/python3.12/site-packages/pandera/error_handlers.py:38\u001b[0m, in \u001b[0;36mSchemaErrorHandler.collect_error\u001b[0;34m(self, reason_code, schema_error, original_exc)\u001b[0m\n\u001b[1;32m     31\u001b[0m \u001b[39m\u001b[39m\u001b[39m\"\"\"Collect schema error, raising exception if lazy is False.\u001b[39;00m\n\u001b[1;32m     32\u001b[0m \n\u001b[1;32m     33\u001b[0m \u001b[39m:param reason_code: string representing reason for error.\u001b[39;00m\n\u001b[1;32m     34\u001b[0m \u001b[39m:param schema_error: ``SchemaError`` object.\u001b[39;00m\n\u001b[1;32m     35\u001b[0m \u001b[39m:param original_exc: original exception associated with the SchemaError.\u001b[39;00m\n\u001b[1;32m     36\u001b[0m \u001b[39m\"\"\"\u001b[39;00m\n\u001b[1;32m     37\u001b[0m \u001b[39mif\u001b[39;00m \u001b[39mnot\u001b[39;00m \u001b[39mself\u001b[39m\u001b[39m.\u001b[39m_lazy:\n\u001b[0;32m---> 38\u001b[0m     \u001b[39mraise\u001b[39;00m schema_error \u001b[39mfrom\u001b[39;00m \u001b[39moriginal_exc\u001b[39;00m\n\u001b[1;32m     40\u001b[0m \u001b[39m# delete data of validated object from SchemaError object to prevent\u001b[39;00m\n\u001b[1;32m     41\u001b[0m \u001b[39m# storing copies of the validated DataFrame/Series for every\u001b[39;00m\n\u001b[1;32m     42\u001b[0m \u001b[39m# SchemaError collected.\u001b[39;00m\n\u001b[1;32m     43\u001b[0m \u001b[39mdel\u001b[39;00m schema_error\u001b[39m.\u001b[39mdata\n",
      "File \u001b[0;32m~/anaconda3/envs/python12/lib/python3.12/site-packages/pandera/backends/pandas/components.py:68\u001b[0m, in \u001b[0;36mColumnBackend.validate.<locals>.validate_column\u001b[0;34m(check_obj, column_name, return_check_obj)\u001b[0m\n\u001b[1;32m     65\u001b[0m \u001b[39mdef\u001b[39;00m \u001b[39mvalidate_column\u001b[39m(check_obj, column_name, return_check_obj\u001b[39m=\u001b[39m\u001b[39mFalse\u001b[39;00m):\n\u001b[1;32m     66\u001b[0m     \u001b[39mtry\u001b[39;00m:\n\u001b[1;32m     67\u001b[0m         \u001b[39m# pylint: disable=super-with-arguments\u001b[39;00m\n\u001b[0;32m---> 68\u001b[0m         validated_check_obj \u001b[39m=\u001b[39m \u001b[39msuper\u001b[39;49m(ColumnBackend, \u001b[39mself\u001b[39;49m)\u001b[39m.\u001b[39;49mvalidate(\n\u001b[1;32m     69\u001b[0m             check_obj,\n\u001b[1;32m     70\u001b[0m             copy(schema)\u001b[39m.\u001b[39;49mset_name(column_name),\n\u001b[1;32m     71\u001b[0m             head\u001b[39m=\u001b[39;49mhead,\n\u001b[1;32m     72\u001b[0m             tail\u001b[39m=\u001b[39;49mtail,\n\u001b[1;32m     73\u001b[0m             sample\u001b[39m=\u001b[39;49msample,\n\u001b[1;32m     74\u001b[0m             random_state\u001b[39m=\u001b[39;49mrandom_state,\n\u001b[1;32m     75\u001b[0m             lazy\u001b[39m=\u001b[39;49mlazy,\n\u001b[1;32m     76\u001b[0m             inplace\u001b[39m=\u001b[39;49minplace,\n\u001b[1;32m     77\u001b[0m         )\n\u001b[1;32m     79\u001b[0m         \u001b[39mif\u001b[39;00m return_check_obj:\n\u001b[1;32m     80\u001b[0m             \u001b[39mreturn\u001b[39;00m validated_check_obj\n",
      "File \u001b[0;32m~/anaconda3/envs/python12/lib/python3.12/site-packages/pandera/backends/pandas/array.py:69\u001b[0m, in \u001b[0;36mArraySchemaBackend.validate\u001b[0;34m(self, check_obj, schema, head, tail, sample, random_state, lazy, inplace)\u001b[0m\n\u001b[1;32m     66\u001b[0m     error_handler\u001b[39m.\u001b[39mcollect_error(exc\u001b[39m.\u001b[39mreason_code, exc)\n\u001b[1;32m     68\u001b[0m \u001b[39m# run the core checks\u001b[39;00m\n\u001b[0;32m---> 69\u001b[0m error_handler \u001b[39m=\u001b[39m \u001b[39mself\u001b[39;49m\u001b[39m.\u001b[39;49mrun_checks_and_handle_errors(\n\u001b[1;32m     70\u001b[0m     error_handler,\n\u001b[1;32m     71\u001b[0m     schema,\n\u001b[1;32m     72\u001b[0m     check_obj,\n\u001b[1;32m     73\u001b[0m     head,\n\u001b[1;32m     74\u001b[0m     tail,\n\u001b[1;32m     75\u001b[0m     sample,\n\u001b[1;32m     76\u001b[0m     random_state,\n\u001b[1;32m     77\u001b[0m )\n\u001b[1;32m     79\u001b[0m \u001b[39mif\u001b[39;00m lazy \u001b[39mand\u001b[39;00m error_handler\u001b[39m.\u001b[39mcollected_errors:\n\u001b[1;32m     80\u001b[0m     \u001b[39mif\u001b[39;00m \u001b[39mgetattr\u001b[39m(schema, \u001b[39m\"\u001b[39m\u001b[39mdrop_invalid_rows\u001b[39m\u001b[39m\"\u001b[39m, \u001b[39mFalse\u001b[39;00m):\n",
      "File \u001b[0;32m~/anaconda3/envs/python12/lib/python3.12/site-packages/pandera/backends/pandas/array.py:150\u001b[0m, in \u001b[0;36mArraySchemaBackend.run_checks_and_handle_errors\u001b[0;34m(self, error_handler, schema, check_obj, head, tail, sample, random_state)\u001b[0m\n\u001b[1;32m    139\u001b[0m         \u001b[39melse\u001b[39;00m:\n\u001b[1;32m    140\u001b[0m             error \u001b[39m=\u001b[39m SchemaError(\n\u001b[1;32m    141\u001b[0m                 schema\u001b[39m=\u001b[39mschema,\n\u001b[1;32m    142\u001b[0m                 data\u001b[39m=\u001b[39mcheck_obj,\n\u001b[0;32m   (...)\u001b[0m\n\u001b[1;32m    148\u001b[0m                 reason_code\u001b[39m=\u001b[39mresult\u001b[39m.\u001b[39mreason_code,\n\u001b[1;32m    149\u001b[0m             )\n\u001b[0;32m--> 150\u001b[0m             error_handler\u001b[39m.\u001b[39;49mcollect_error(\n\u001b[1;32m    151\u001b[0m                 result\u001b[39m.\u001b[39;49mreason_code,\n\u001b[1;32m    152\u001b[0m                 error,\n\u001b[1;32m    153\u001b[0m                 original_exc\u001b[39m=\u001b[39;49mresult\u001b[39m.\u001b[39;49moriginal_exc,\n\u001b[1;32m    154\u001b[0m             )\n\u001b[1;32m    156\u001b[0m \u001b[39mreturn\u001b[39;00m error_handler\n",
      "File \u001b[0;32m~/anaconda3/envs/python12/lib/python3.12/site-packages/pandera/error_handlers.py:38\u001b[0m, in \u001b[0;36mSchemaErrorHandler.collect_error\u001b[0;34m(self, reason_code, schema_error, original_exc)\u001b[0m\n\u001b[1;32m     31\u001b[0m \u001b[39m\u001b[39m\u001b[39m\"\"\"Collect schema error, raising exception if lazy is False.\u001b[39;00m\n\u001b[1;32m     32\u001b[0m \n\u001b[1;32m     33\u001b[0m \u001b[39m:param reason_code: string representing reason for error.\u001b[39;00m\n\u001b[1;32m     34\u001b[0m \u001b[39m:param schema_error: ``SchemaError`` object.\u001b[39;00m\n\u001b[1;32m     35\u001b[0m \u001b[39m:param original_exc: original exception associated with the SchemaError.\u001b[39;00m\n\u001b[1;32m     36\u001b[0m \u001b[39m\"\"\"\u001b[39;00m\n\u001b[1;32m     37\u001b[0m \u001b[39mif\u001b[39;00m \u001b[39mnot\u001b[39;00m \u001b[39mself\u001b[39m\u001b[39m.\u001b[39m_lazy:\n\u001b[0;32m---> 38\u001b[0m     \u001b[39mraise\u001b[39;00m schema_error \u001b[39mfrom\u001b[39;00m \u001b[39moriginal_exc\u001b[39;00m\n\u001b[1;32m     40\u001b[0m \u001b[39m# delete data of validated object from SchemaError object to prevent\u001b[39;00m\n\u001b[1;32m     41\u001b[0m \u001b[39m# storing copies of the validated DataFrame/Series for every\u001b[39;00m\n\u001b[1;32m     42\u001b[0m \u001b[39m# SchemaError collected.\u001b[39;00m\n\u001b[1;32m     43\u001b[0m \u001b[39mdel\u001b[39;00m schema_error\u001b[39m.\u001b[39mdata\n",
      "\u001b[0;31mSchemaError\u001b[0m: <Schema Column(name=column1, type=DataType(int64))> failed element-wise validator 0:\n<Check <lambda>: range checker [0, 10]>\nfailure cases:\n   index  failure_case\n0      0           -20\n1      3            30"
     ]
    }
   ],
   "source": [
    "import pandas as pd\n",
    "\n",
    "from pandera import Column, DataFrameSchema, Int, Check\n",
    "\n",
    "simple_schema = DataFrameSchema({\n",
    "    \"column1\": Column(\n",
    "        Int, Check(lambda x: 0 <= x <= 10, element_wise=True,\n",
    "                   error=\"range checker [0, 10]\"))\n",
    "})\n",
    "\n",
    "# validation rule violated\n",
    "fail_check_df = pd.DataFrame({\n",
    "    \"column1\": [-20, 5, 10, 30],\n",
    "})\n",
    "\n",
    "simple_schema(fail_check_df)"
   ]
  },
  {
   "cell_type": "code",
   "execution_count": 8,
   "metadata": {},
   "outputs": [
    {
     "ename": "SchemaError",
     "evalue": "column 'column1' not in dataframe\n   foo  baz\n0  bar    1\n1  bar    1\n2  bar    1\n3  bar    1\n4  bar    1",
     "output_type": "error",
     "traceback": [
      "\u001b[0;31m---------------------------------------------------------------------------\u001b[0m",
      "\u001b[0;31mSchemaError\u001b[0m                               Traceback (most recent call last)",
      "Cell \u001b[0;32mIn[8], line 7\u001b[0m\n\u001b[1;32m      1\u001b[0m \u001b[39m# column name mis-specified\u001b[39;00m\n\u001b[1;32m      2\u001b[0m wrong_column_df \u001b[39m=\u001b[39m pd\u001b[39m.\u001b[39mDataFrame({\n\u001b[1;32m      3\u001b[0m    \u001b[39m\"\u001b[39m\u001b[39mfoo\u001b[39m\u001b[39m\"\u001b[39m: [\u001b[39m\"\u001b[39m\u001b[39mbar\u001b[39m\u001b[39m\"\u001b[39m] \u001b[39m*\u001b[39m \u001b[39m10\u001b[39m,\n\u001b[1;32m      4\u001b[0m    \u001b[39m\"\u001b[39m\u001b[39mbaz\u001b[39m\u001b[39m\"\u001b[39m: [\u001b[39m1\u001b[39m] \u001b[39m*\u001b[39m \u001b[39m10\u001b[39m\n\u001b[1;32m      5\u001b[0m })\n\u001b[0;32m----> 7\u001b[0m simple_schema\u001b[39m.\u001b[39;49mvalidate(wrong_column_df)\n",
      "File \u001b[0;32m~/anaconda3/envs/python12/lib/python3.12/site-packages/pandera/api/pandas/container.py:371\u001b[0m, in \u001b[0;36mDataFrameSchema.validate\u001b[0;34m(self, check_obj, head, tail, sample, random_state, lazy, inplace)\u001b[0m\n\u001b[1;32m    359\u001b[0m     check_obj \u001b[39m=\u001b[39m check_obj\u001b[39m.\u001b[39mmap_partitions(  \u001b[39m# type: ignore [operator]\u001b[39;00m\n\u001b[1;32m    360\u001b[0m         \u001b[39mself\u001b[39m\u001b[39m.\u001b[39m_validate,\n\u001b[1;32m    361\u001b[0m         head\u001b[39m=\u001b[39mhead,\n\u001b[0;32m   (...)\u001b[0m\n\u001b[1;32m    367\u001b[0m         meta\u001b[39m=\u001b[39mcheck_obj,\n\u001b[1;32m    368\u001b[0m     )\n\u001b[1;32m    369\u001b[0m     \u001b[39mreturn\u001b[39;00m check_obj\u001b[39m.\u001b[39mpandera\u001b[39m.\u001b[39madd_schema(\u001b[39mself\u001b[39m)\n\u001b[0;32m--> 371\u001b[0m \u001b[39mreturn\u001b[39;00m \u001b[39mself\u001b[39;49m\u001b[39m.\u001b[39;49m_validate(\n\u001b[1;32m    372\u001b[0m     check_obj\u001b[39m=\u001b[39;49mcheck_obj,\n\u001b[1;32m    373\u001b[0m     head\u001b[39m=\u001b[39;49mhead,\n\u001b[1;32m    374\u001b[0m     tail\u001b[39m=\u001b[39;49mtail,\n\u001b[1;32m    375\u001b[0m     sample\u001b[39m=\u001b[39;49msample,\n\u001b[1;32m    376\u001b[0m     random_state\u001b[39m=\u001b[39;49mrandom_state,\n\u001b[1;32m    377\u001b[0m     lazy\u001b[39m=\u001b[39;49mlazy,\n\u001b[1;32m    378\u001b[0m     inplace\u001b[39m=\u001b[39;49minplace,\n\u001b[1;32m    379\u001b[0m )\n",
      "File \u001b[0;32m~/anaconda3/envs/python12/lib/python3.12/site-packages/pandera/api/pandas/container.py:400\u001b[0m, in \u001b[0;36mDataFrameSchema._validate\u001b[0;34m(self, check_obj, head, tail, sample, random_state, lazy, inplace)\u001b[0m\n\u001b[1;32m    391\u001b[0m \u001b[39mif\u001b[39;00m \u001b[39mself\u001b[39m\u001b[39m.\u001b[39m_is_inferred:\n\u001b[1;32m    392\u001b[0m     warnings\u001b[39m.\u001b[39mwarn(\n\u001b[1;32m    393\u001b[0m         \u001b[39mf\u001b[39m\u001b[39m\"\u001b[39m\u001b[39mThis \u001b[39m\u001b[39m{\u001b[39;00m\u001b[39mtype\u001b[39m(\u001b[39mself\u001b[39m)\u001b[39m}\u001b[39;00m\u001b[39m is an inferred schema that hasn\u001b[39m\u001b[39m'\u001b[39m\u001b[39mt been \u001b[39m\u001b[39m\"\u001b[39m\n\u001b[1;32m    394\u001b[0m         \u001b[39m\"\u001b[39m\u001b[39mmodified. It\u001b[39m\u001b[39m'\u001b[39m\u001b[39ms recommended that you refine the schema \u001b[39m\u001b[39m\"\u001b[39m\n\u001b[0;32m   (...)\u001b[0m\n\u001b[1;32m    397\u001b[0m         \u001b[39mUserWarning\u001b[39;00m,\n\u001b[1;32m    398\u001b[0m     )\n\u001b[0;32m--> 400\u001b[0m \u001b[39mreturn\u001b[39;00m \u001b[39mself\u001b[39;49m\u001b[39m.\u001b[39;49mget_backend(check_obj)\u001b[39m.\u001b[39;49mvalidate(\n\u001b[1;32m    401\u001b[0m     check_obj,\n\u001b[1;32m    402\u001b[0m     schema\u001b[39m=\u001b[39;49m\u001b[39mself\u001b[39;49m,\n\u001b[1;32m    403\u001b[0m     head\u001b[39m=\u001b[39;49mhead,\n\u001b[1;32m    404\u001b[0m     tail\u001b[39m=\u001b[39;49mtail,\n\u001b[1;32m    405\u001b[0m     sample\u001b[39m=\u001b[39;49msample,\n\u001b[1;32m    406\u001b[0m     random_state\u001b[39m=\u001b[39;49mrandom_state,\n\u001b[1;32m    407\u001b[0m     lazy\u001b[39m=\u001b[39;49mlazy,\n\u001b[1;32m    408\u001b[0m     inplace\u001b[39m=\u001b[39;49minplace,\n\u001b[1;32m    409\u001b[0m )\n",
      "File \u001b[0;32m~/anaconda3/envs/python12/lib/python3.12/site-packages/pandera/backends/pandas/container.py:97\u001b[0m, in \u001b[0;36mDataFrameSchemaBackend.validate\u001b[0;34m(self, check_obj, schema, head, tail, sample, random_state, lazy, inplace)\u001b[0m\n\u001b[1;32m     92\u001b[0m components \u001b[39m=\u001b[39m \u001b[39mself\u001b[39m\u001b[39m.\u001b[39mcollect_schema_components(\n\u001b[1;32m     93\u001b[0m     check_obj, schema, column_info\n\u001b[1;32m     94\u001b[0m )\n\u001b[1;32m     96\u001b[0m \u001b[39m# run the checks\u001b[39;00m\n\u001b[0;32m---> 97\u001b[0m error_handler \u001b[39m=\u001b[39m \u001b[39mself\u001b[39;49m\u001b[39m.\u001b[39;49mrun_checks_and_handle_errors(\n\u001b[1;32m     98\u001b[0m     error_handler,\n\u001b[1;32m     99\u001b[0m     schema,\n\u001b[1;32m    100\u001b[0m     check_obj,\n\u001b[1;32m    101\u001b[0m     column_info,\n\u001b[1;32m    102\u001b[0m     sample,\n\u001b[1;32m    103\u001b[0m     components,\n\u001b[1;32m    104\u001b[0m     lazy,\n\u001b[1;32m    105\u001b[0m     head,\n\u001b[1;32m    106\u001b[0m     tail,\n\u001b[1;32m    107\u001b[0m     random_state,\n\u001b[1;32m    108\u001b[0m )\n\u001b[1;32m    110\u001b[0m \u001b[39mif\u001b[39;00m error_handler\u001b[39m.\u001b[39mcollected_errors:\n\u001b[1;32m    111\u001b[0m     \u001b[39mif\u001b[39;00m \u001b[39mgetattr\u001b[39m(schema, \u001b[39m\"\u001b[39m\u001b[39mdrop_invalid_rows\u001b[39m\u001b[39m\"\u001b[39m, \u001b[39mFalse\u001b[39;00m):\n",
      "File \u001b[0;32m~/anaconda3/envs/python12/lib/python3.12/site-packages/pandera/backends/pandas/container.py:172\u001b[0m, in \u001b[0;36mDataFrameSchemaBackend.run_checks_and_handle_errors\u001b[0;34m(self, error_handler, schema, check_obj, column_info, sample, components, lazy, head, tail, random_state)\u001b[0m\n\u001b[1;32m    161\u001b[0m         \u001b[39melse\u001b[39;00m:\n\u001b[1;32m    162\u001b[0m             error \u001b[39m=\u001b[39m SchemaError(\n\u001b[1;32m    163\u001b[0m                 schema,\n\u001b[1;32m    164\u001b[0m                 data\u001b[39m=\u001b[39mcheck_obj,\n\u001b[0;32m   (...)\u001b[0m\n\u001b[1;32m    170\u001b[0m                 reason_code\u001b[39m=\u001b[39mresult\u001b[39m.\u001b[39mreason_code,\n\u001b[1;32m    171\u001b[0m             )\n\u001b[0;32m--> 172\u001b[0m         error_handler\u001b[39m.\u001b[39;49mcollect_error(\n\u001b[1;32m    173\u001b[0m             result\u001b[39m.\u001b[39;49mreason_code,\n\u001b[1;32m    174\u001b[0m             error,\n\u001b[1;32m    175\u001b[0m             original_exc\u001b[39m=\u001b[39;49mresult\u001b[39m.\u001b[39;49moriginal_exc,\n\u001b[1;32m    176\u001b[0m         )\n\u001b[1;32m    178\u001b[0m \u001b[39mreturn\u001b[39;00m error_handler\n",
      "File \u001b[0;32m~/anaconda3/envs/python12/lib/python3.12/site-packages/pandera/error_handlers.py:38\u001b[0m, in \u001b[0;36mSchemaErrorHandler.collect_error\u001b[0;34m(self, reason_code, schema_error, original_exc)\u001b[0m\n\u001b[1;32m     31\u001b[0m \u001b[39m\u001b[39m\u001b[39m\"\"\"Collect schema error, raising exception if lazy is False.\u001b[39;00m\n\u001b[1;32m     32\u001b[0m \n\u001b[1;32m     33\u001b[0m \u001b[39m:param reason_code: string representing reason for error.\u001b[39;00m\n\u001b[1;32m     34\u001b[0m \u001b[39m:param schema_error: ``SchemaError`` object.\u001b[39;00m\n\u001b[1;32m     35\u001b[0m \u001b[39m:param original_exc: original exception associated with the SchemaError.\u001b[39;00m\n\u001b[1;32m     36\u001b[0m \u001b[39m\"\"\"\u001b[39;00m\n\u001b[1;32m     37\u001b[0m \u001b[39mif\u001b[39;00m \u001b[39mnot\u001b[39;00m \u001b[39mself\u001b[39m\u001b[39m.\u001b[39m_lazy:\n\u001b[0;32m---> 38\u001b[0m     \u001b[39mraise\u001b[39;00m schema_error \u001b[39mfrom\u001b[39;00m \u001b[39moriginal_exc\u001b[39;00m\n\u001b[1;32m     40\u001b[0m \u001b[39m# delete data of validated object from SchemaError object to prevent\u001b[39;00m\n\u001b[1;32m     41\u001b[0m \u001b[39m# storing copies of the validated DataFrame/Series for every\u001b[39;00m\n\u001b[1;32m     42\u001b[0m \u001b[39m# SchemaError collected.\u001b[39;00m\n\u001b[1;32m     43\u001b[0m \u001b[39mdel\u001b[39;00m schema_error\u001b[39m.\u001b[39mdata\n",
      "\u001b[0;31mSchemaError\u001b[0m: column 'column1' not in dataframe\n   foo  baz\n0  bar    1\n1  bar    1\n2  bar    1\n3  bar    1\n4  bar    1"
     ]
    }
   ],
   "source": [
    "# column name mis-specified\n",
    "wrong_column_df = pd.DataFrame({\n",
    "   \"foo\": [\"bar\"] * 10,\n",
    "   \"baz\": [1] * 10\n",
    "})\n",
    "\n",
    "simple_schema.validate(wrong_column_df)"
   ]
  },
  {
   "cell_type": "code",
   "execution_count": null,
   "metadata": {},
   "outputs": [],
   "source": []
  }
 ],
 "metadata": {
  "kernelspec": {
   "display_name": "python12",
   "language": "python",
   "name": "python3"
  },
  "language_info": {
   "codemirror_mode": {
    "name": "ipython",
    "version": 3
   },
   "file_extension": ".py",
   "mimetype": "text/x-python",
   "name": "python",
   "nbconvert_exporter": "python",
   "pygments_lexer": "ipython3",
   "version": "3.12.0"
  },
  "orig_nbformat": 4
 },
 "nbformat": 4,
 "nbformat_minor": 2
}
