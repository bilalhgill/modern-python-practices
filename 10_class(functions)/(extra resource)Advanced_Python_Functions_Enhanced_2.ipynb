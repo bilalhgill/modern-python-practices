{
  "cells": [
    {
      "cell_type": "markdown",
      "id": "b8a8e8b3",
      "metadata": {
        "id": "b8a8e8b3"
      },
      "source": [
        "# Advanced Python Functions with Static Type Annotations"
      ]
    },
    {
      "cell_type": "markdown",
      "id": "faf4538a",
      "metadata": {
        "id": "faf4538a"
      },
      "source": [
        "## 1. Function Basics"
      ]
    },
    {
      "cell_type": "markdown",
      "id": "c84efaac",
      "metadata": {
        "id": "c84efaac"
      },
      "source": [
        "A function is a block of code that performs a specific task. Here’s a simple function that greets the person whose name is passed as a parameter:"
      ]
    },
    {
      "cell_type": "code",
      "execution_count": null,
      "id": "2f22a395",
      "metadata": {
        "id": "2f22a395"
      },
      "outputs": [],
      "source": [
        "def greet(name: str) -> None:\n",
        "    \"\"\"\n",
        "    This function greets the person passed in as a parameter\n",
        "    \"\"\"\n",
        "    print(\"Hello, \" + name + \". Good morning!\")\n",
        "\n",
        "greet('Paul')"
      ]
    },
    {
      "cell_type": "markdown",
      "id": "b89a804a",
      "metadata": {
        "id": "b89a804a"
      },
      "source": [
        "## 2. Default Arguments"
      ]
    },
    {
      "cell_type": "markdown",
      "id": "baf1636b",
      "metadata": {
        "id": "baf1636b"
      },
      "source": [
        "Default arguments in a function can be specified by assigning a default value to the parameter in the function definition. This allows you to call the function without providing those arguments."
      ]
    },
    {
      "cell_type": "code",
      "execution_count": null,
      "id": "d013dae8",
      "metadata": {
        "id": "d013dae8"
      },
      "outputs": [],
      "source": [
        "def greet(name: str, msg: str = \"Good morning!\") -> None:\n",
        "    \"\"\"\n",
        "    This function greets the person with the provided message.\n",
        "    If the message is not provided, it defaults to \"Good morning!\"\n",
        "    \"\"\"\n",
        "    print(\"Hello\", name + ', ' + msg)\n",
        "\n",
        "greet(\"Kate\")\n",
        "greet(\"Bruce\", \"How do you do?\")"
      ]
    },
    {
      "cell_type": "markdown",
      "id": "e5a8223b",
      "metadata": {
        "id": "e5a8223b"
      },
      "source": [
        "## 3. Variable-length Arguments"
      ]
    },
    {
      "cell_type": "markdown",
      "id": "7a932a0c",
      "metadata": {
        "id": "7a932a0c"
      },
      "source": [
        "Sometimes you might not know in advance how many arguments a function should accept. Python allows you to handle this kind of situation through function calls with an arbitrary number of arguments."
      ]
    },
    {
      "cell_type": "code",
      "execution_count": null,
      "id": "a14f6c92",
      "metadata": {
        "id": "a14f6c92"
      },
      "outputs": [],
      "source": [
        "from typing import Tuple\n",
        "\n",
        "def greet(*names: Tuple[str, ...]) -> None:\n",
        "    \"\"\"\n",
        "    This function greets all persons in the names tuple.\n",
        "    \"\"\"\n",
        "    for name in names:\n",
        "        print(\"Hello\", name)\n",
        "\n",
        "greet(\"Monica\", \"Luke\", \"Steve\", \"John\")"
      ]
    },
    {
      "cell_type": "markdown",
      "id": "8db8987d",
      "metadata": {
        "id": "8db8987d"
      },
      "source": [
        "## 4. Lambda Functions"
      ]
    },
    {
      "cell_type": "markdown",
      "id": "c89c65a1",
      "metadata": {
        "id": "c89c65a1"
      },
      "source": [
        "Lambda functions are small anonymous functions defined with the `lambda` keyword. They can take any number of arguments, but can only have one expression."
      ]
    },
    {
      "cell_type": "code",
      "execution_count": null,
      "id": "b2656298",
      "metadata": {
        "id": "b2656298"
      },
      "outputs": [],
      "source": [
        "square = lambda x: x ** 2\n",
        "print(square(5))"
      ]
    },
    {
      "cell_type": "markdown",
      "id": "83330fe1",
      "metadata": {
        "id": "83330fe1"
      },
      "source": [
        "## 5. Higher-order Functions"
      ]
    },
    {
      "cell_type": "code",
      "execution_count": null,
      "id": "98316f15",
      "metadata": {
        "id": "98316f15"
      },
      "outputs": [],
      "source": [
        "from typing import Callable\n",
        "\n",
        "def apply(func: Callable[[int], int], value: int) -> int:\n",
        "    return func(value)\n",
        "\n",
        "result = apply(lambda x: x ** 2, 5)\n",
        "print(result)"
      ]
    },
    {
      "cell_type": "markdown",
      "source": [
        "## 6. Closures"
      ],
      "metadata": {
        "id": "y0jC-LkabJXk"
      },
      "id": "y0jC-LkabJXk"
    },
    {
      "cell_type": "code",
      "execution_count": null,
      "id": "950ffb0b",
      "metadata": {
        "id": "950ffb0b"
      },
      "outputs": [],
      "source": [
        "from typing import Callable\n",
        "\n",
        "def outer_func(x: int) -> Callable[[int], int]:\n",
        "    def inner_func(y: int) -> int:\n",
        "        return x + y\n",
        "    return inner_func\n",
        "\n",
        "closure = outer_func(10)\n",
        "print(closure(5))  # Outputs: 15"
      ]
    },
    {
      "cell_type": "markdown",
      "source": [
        "## 7. Decorators"
      ],
      "metadata": {
        "id": "XeIlR-abbOAb"
      },
      "id": "XeIlR-abbOAb"
    },
    {
      "cell_type": "code",
      "execution_count": null,
      "id": "4195661d",
      "metadata": {
        "id": "4195661d"
      },
      "outputs": [],
      "source": [
        "from typing import Callable\n",
        "\n",
        "def decorator(func: Callable[[], None]) -> Callable[[], None]:\n",
        "    def wrapper() -> None:\n",
        "        print(\"Something is happening before the function is called.\")\n",
        "        func()\n",
        "        print(\"Something is happening after the function is called.\")\n",
        "    return wrapper\n",
        "\n",
        "@decorator\n",
        "def say_hello() -> None:\n",
        "    print(\"Hello!\")\n",
        "\n",
        "say_hello()"
      ]
    },
    {
      "cell_type": "markdown",
      "source": [
        "## 8. Recursion"
      ],
      "metadata": {
        "id": "8heBtMlLbS1j"
      },
      "id": "8heBtMlLbS1j"
    },
    {
      "cell_type": "code",
      "execution_count": null,
      "id": "5617a513",
      "metadata": {
        "id": "5617a513"
      },
      "outputs": [],
      "source": [
        "def factorial(x: int) -> int:\n",
        "    \"\"\"This is a recursive function\n",
        "    to find the factorial of an integer\"\"\"\n",
        "    if x == 1:\n",
        "        return 1\n",
        "    else:\n",
        "        return (x * factorial(x-1))\n",
        "\n",
        "num = 5\n",
        "print(\"The factorial of\", num, \"is\", factorial(num))"
      ]
    },
    {
      "cell_type": "markdown",
      "source": [
        "## 9. Type Hints"
      ],
      "metadata": {
        "id": "tgO5gtCQbY9j"
      },
      "id": "tgO5gtCQbY9j"
    },
    {
      "cell_type": "code",
      "execution_count": null,
      "id": "36bb8342",
      "metadata": {
        "id": "36bb8342"
      },
      "outputs": [],
      "source": [
        "def add_numbers(a: int, b: int) -> int:\n",
        "    return a + b\n",
        "\n",
        "result = add_numbers(10, 20)\n",
        "print(result)"
      ]
    },
    {
      "cell_type": "markdown",
      "source": [
        "## 10. Docstrings"
      ],
      "metadata": {
        "id": "bke14ZgdbcLm"
      },
      "id": "bke14ZgdbcLm"
    },
    {
      "cell_type": "code",
      "execution_count": null,
      "id": "86f76ea8",
      "metadata": {
        "id": "86f76ea8"
      },
      "outputs": [],
      "source": [
        "def add_numbers(a: int, b: int) -> int:\n",
        "    \"\"\"\n",
        "    This function adds two numbers.\n",
        "\n",
        "    Parameters:\n",
        "       a (int): The first number.\n",
        "       b (int): The second number.\n",
        "\n",
        "    Returns:\n",
        "       int: The sum of the two numbers.\n",
        "    \"\"\"\n",
        "    return a + b"
      ]
    }
  ],
  "metadata": {
    "colab": {
      "provenance": []
    },
    "language_info": {
      "name": "python"
    },
    "kernelspec": {
      "name": "python3",
      "display_name": "Python 3"
    }
  },
  "nbformat": 4,
  "nbformat_minor": 5
}